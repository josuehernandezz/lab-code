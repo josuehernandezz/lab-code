{
 "cells": [
  {
   "cell_type": "code",
   "execution_count": null,
   "metadata": {},
   "outputs": [
    {
     "ename": "",
     "evalue": "",
     "output_type": "error",
     "traceback": [
      "\u001b[1;31mRunning cells with 'venv (Python 3.12.6)' requires the ipykernel package.\n",
      "\u001b[1;31mRun the following command to install 'ipykernel' into the Python environment. \n",
      "\u001b[1;31mCommand: '/Users/josuehernandez/jh_sheldon_group/plotting/venv/bin/python -m pip install ipykernel -U --force-reinstall'"
     ]
    }
   ],
   "source": [
    "import matplotlib.pyplot as plt\n",
    "import pandas as pd\n",
    "\n",
    "j=0\n",
    "ftir_paths = '''\n",
    "/Users/josuehernandez/Downloads/lead_oleate_solid_test_save.csv\n",
    "'''.split()\n",
    "samp_ID = '''\n",
    "PbOA\n",
    "'''.split()\n",
    "\n",
    "for path in ftir_paths:\n",
    "    ftir_Data = pd.read_csv(path, names=('wavenumber', 'intensity'))\n",
    "\n",
    "    ################################### Abs Data ###################################\n",
    "    ftir_x = ftir_Data.wavenumber\n",
    "    ftir_y = ftir_Data.intensity\n",
    "\n",
    "    ################################### Plots ###################################\n",
    "    # Plot Abs & PL\n",
    "    plt.plot(ftir_x, ftir_y, label='Abs ' + ' ' + samp_ID[j])\n",
    "    # plt.plot(plX, plYNorm, 'r', label='PL ' + saveName)\n",
    "    # plt.plot(plX, plYNorm, label='PL ' + ' ' + sampID[j])\n",
    "\n",
    "    plt.title('Lead Oleate IR Spectra')\n",
    "    # plt.xlim([300, 750])\n",
    "    # plt.ylim([0, absYNorm[idx] + 0.02])\n",
    "    plt.legend()\n",
    "    # plt.savefig(savePath, dpi=1200)\n",
    "    j+=1\n",
    "plt.show()\n"
   ]
  }
 ],
 "metadata": {
  "kernelspec": {
   "display_name": "airwashndry",
   "language": "python",
   "name": "python3"
  },
  "language_info": {
   "codemirror_mode": {
    "name": "ipython",
    "version": 3
   },
   "file_extension": ".py",
   "mimetype": "text/x-python",
   "name": "python",
   "nbconvert_exporter": "python",
   "pygments_lexer": "ipython3",
   "version": "3.11.3"
  }
 },
 "nbformat": 4,
 "nbformat_minor": 2
}
