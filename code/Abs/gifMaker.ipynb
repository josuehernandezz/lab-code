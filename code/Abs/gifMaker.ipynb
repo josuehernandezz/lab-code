{
 "cells": [
  {
   "cell_type": "code",
   "execution_count": 1,
   "metadata": {},
   "outputs": [
    {
     "name": "stderr",
     "output_type": "stream",
     "text": [
      "/var/folders/38/zlz6g3wn0sx567qr22rqyzf00000gn/T/ipykernel_1573/460837763.py:71: DeprecationWarning: Starting with ImageIO v3 the behavior of this function will switch to that of iio.v3.imread. To keep the current behavior (and make this warning disappear) use `import imageio.v2 as imageio` or call `imageio.v2.imread` directly.\n",
      "  image = imageio.imread(filename)\n"
     ]
    },
    {
     "data": {
      "text/plain": [
       "<Figure size 640x480 with 0 Axes>"
      ]
     },
     "metadata": {},
     "output_type": "display_data"
    }
   ],
   "source": [
    "from matplotlib import pyplot as plt\n",
    "import numpy as np\n",
    "import pandas as pd\n",
    "import imageio.v2 as imageio\n",
    "import io\n",
    "\n",
    "# Create a list of plots to be saved as a GIF\n",
    "plots = []\n",
    "\n",
    "# Loop through some data and create a plot at each iteration\n",
    "for i in np.arange(9) + 1:\n",
    "    samp_name = 'JH07_' + str(i)\n",
    "\n",
    "    # Save Name\n",
    "    save_name = samp_name + '_Abs_PL_fig'\n",
    "\n",
    "    #File paths of absorbance and PL data\n",
    "    abs_path = '/Users/josuehernandez/jh_sheldon_group/data/Abs/Fractioning/JH7/' + samp_name + '.txt'\n",
    "    pl_path = '/Users/josuehernandez/jh_sheldon_group/data/PL/fractioning/JH7/PL_' + samp_name + '.txt'\n",
    "\n",
    "    # Figure Save Location\n",
    "    save_path = '/Users/josuehernandez/jh_sheldon_group/figures/Abs_PL_figures/Fractions/JH7/' + save_name + '.png'\n",
    "\n",
    "    abs_data = pd.read_csv(abs_path, delimiter='\\t', names=('wavelength', 'intensity'))\n",
    "    pl_data = pd.read_csv(pl_path, delimiter='\\t', names=('wavelength', 'intensity'))\n",
    "\n",
    "    # Figure and axes titles\n",
    "    title = samp_name + ' Absorbance and PL'\n",
    "    x_label = 'Wavelength (nm)'\n",
    "    y_label = 'Normalized Intensity (a.u.)'\n",
    "\n",
    "    # Abs Data\n",
    "    wavelength = abs_data.wavelength\n",
    "    f_int = abs_data.intensity\n",
    "    abs_norm = 0\n",
    "    while wavelength[abs_norm] < 300:\n",
    "        abs_norm += 1\n",
    "    abs_norm_inten = f_int / f_int[abs_norm]\n",
    "\n",
    "    # PL data\n",
    "    pl_wavelength = pl_data.wavelength\n",
    "    pl_inten = pl_data.intensity\n",
    "    pl_norm_inten = pl_inten / np.max(pl_inten)\n",
    "\n",
    "    # Format Flots\n",
    "    float_formatter = \"{:.1f}\".format\n",
    "\n",
    "    plt.plot(wavelength, abs_norm_inten, '-b', label='Abs ' + samp_name)\n",
    "    plt.plot(pl_wavelength, pl_norm_inten, '-r', label='PL ' + samp_name)\n",
    "\n",
    "    plt.plot(pl_wavelength[pl_norm_inten.argmax(axis=0)],max(pl_norm_inten), marker='o', \n",
    "            label='Max ' + str(float_formatter(pl_wavelength[pl_norm_inten.argmax(axis=0)])) + ' nm', markerfacecolor='black')\n",
    "\n",
    "    plt.xlim([300, 700])\n",
    "    plt.ylim([0, np.max(f_int / np.max(f_int))+0.05])\n",
    "    plt.xlabel(x_label)\n",
    "    plt.ylabel(y_label)\n",
    "    plt.title(title)\n",
    "    plt.legend()\n",
    "    plt.savefig(save_path, dpi=1200)\n",
    "    plt.draw()\n",
    "    \n",
    "    # Add the PNG image to the list of plots\n",
    "    plots.append(save_path)\n",
    "    \n",
    "    # Clear the current plot for the next iteration\n",
    "    plt.clf()\n",
    "\n",
    "# Use imageio to create a GIF from the list of plots\n",
    "with imageio.get_writer('/Users/josuehernandez/jh_sheldon_group/figures/Abs_PL_figures/Fractions/JH7/JH7_frac.gif', mode='I', duration=1) as writer:\n",
    "    for filename in plots:\n",
    "        image = imageio.imread(filename)\n",
    "        writer.append_data(image)\n"
   ]
  }
 ],
 "metadata": {
  "kernelspec": {
   "display_name": "programming",
   "language": "python",
   "name": "python3"
  },
  "language_info": {
   "codemirror_mode": {
    "name": "ipython",
    "version": 3
   },
   "file_extension": ".py",
   "mimetype": "text/x-python",
   "name": "python",
   "nbconvert_exporter": "python",
   "pygments_lexer": "ipython3",
   "version": "3.10.9"
  },
  "orig_nbformat": 4,
  "vscode": {
   "interpreter": {
    "hash": "f1accf05d966662bfefc808f493f0fef7cdfbea7f3faa379e8caff1dcaf6e600"
   }
  }
 },
 "nbformat": 4,
 "nbformat_minor": 2
}
