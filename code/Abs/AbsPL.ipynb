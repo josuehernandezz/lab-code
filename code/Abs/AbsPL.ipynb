{
 "cells": [
  {
   "cell_type": "code",
   "execution_count": 1,
   "metadata": {},
   "outputs": [
    {
     "ename": "AttributeError",
     "evalue": "module 'helper' has no attribute 'detDelim'",
     "output_type": "error",
     "traceback": [
      "\u001b[0;31m---------------------------------------------------------------------------\u001b[0m",
      "\u001b[0;31mAttributeError\u001b[0m                            Traceback (most recent call last)",
      "Cell \u001b[0;32mIn[1], line 34\u001b[0m\n\u001b[1;32m     30\u001b[0m savePath \u001b[38;5;241m=\u001b[39m \u001b[38;5;124m'\u001b[39m\u001b[38;5;124m/Users/josuehernandez/Downloads/\u001b[39m\u001b[38;5;124m'\u001b[39m \u001b[38;5;241m+\u001b[39m saveName\n\u001b[1;32m     31\u001b[0m \u001b[38;5;66;03m# savePath = sp.APsaveLocation('crude', saveName)\u001b[39;00m\n\u001b[1;32m     32\u001b[0m \n\u001b[1;32m     33\u001b[0m \u001b[38;5;66;03m# Extracting abs and pl imformation\u001b[39;00m\n\u001b[0;32m---> 34\u001b[0m absData \u001b[38;5;241m=\u001b[39m pd\u001b[38;5;241m.\u001b[39mread_csv(absPath, delimiter\u001b[38;5;241m=\u001b[39m\u001b[43mh\u001b[49m\u001b[38;5;241;43m.\u001b[39;49m\u001b[43mdetDelim\u001b[49m(absPath), names\u001b[38;5;241m=\u001b[39m(\u001b[38;5;124m'\u001b[39m\u001b[38;5;124mwavelength\u001b[39m\u001b[38;5;124m'\u001b[39m, \u001b[38;5;124m'\u001b[39m\u001b[38;5;124mintensity\u001b[39m\u001b[38;5;124m'\u001b[39m))\n\u001b[1;32m     35\u001b[0m \u001b[38;5;66;03m# plData = pd.read_csv(plPath, delimiter=h.detDelim(plPath), names=('wavelength', 'intensity'))\u001b[39;00m\n\u001b[1;32m     36\u001b[0m \n\u001b[1;32m     37\u001b[0m \u001b[38;5;66;03m########################################################### Abs Data ###########################################################\u001b[39;00m\n\u001b[1;32m     38\u001b[0m absX \u001b[38;5;241m=\u001b[39m absData\u001b[38;5;241m.\u001b[39mwavelength\n",
      "\u001b[0;31mAttributeError\u001b[0m: module 'helper' has no attribute 'detDelim'"
     ]
    }
   ],
   "source": [
    "import matplotlib.pyplot as plt\n",
    "import numpy as np\n",
    "import pandas as pd\n",
    "\n",
    "# Custom\n",
    "from helper import (plotHelper as ph, savepy as sp, apHelper as ap)\n",
    "import helper as h\n",
    "\n",
    "j = 0\n",
    "absPaths = '''\n",
    "/Users/josuehernandez/Downloads/Abs_JH15_50_2000_Absorbance__0__13-42-04-025.txt\n",
    "/Users/josuehernandez/Downloads/Abs_JH15_E1_50_400_Absorbance__0__13-38-32-241.txt\n",
    "'''.split()\n",
    "plPaths = '''\n",
    "/Users/josuehernandez/Downloads/PL_JH15_E1_Subt13__0__13-48-31-028.txt\n",
    "/Users/josuehernandez/Downloads/PL_JH15_Subt13__0__13-46-59-106.txt\n",
    "'''.split()\n",
    "sampID = '''\n",
    "Hex\n",
    "E1\n",
    "'''.split()\n",
    "sample = 'JH15 Abs'\n",
    "saveName = sample\n",
    "for j in np.arange(len(absPaths)):\n",
    "    #File paths of absorbance and PL data\n",
    "    absPath = absPaths[j]\n",
    "    # plPath = plPaths[j]\n",
    "    # saveName = sample + sampID[j]\n",
    "    # Figure Save Location\n",
    "    savePath = '/Users/josuehernandez/Downloads/' + saveName\n",
    "    # savePath = sp.APsaveLocation('crude', saveName)\n",
    "\n",
    "    # Extracting abs and pl imformation\n",
    "    absData = pd.read_csv(absPath, delimiter=h.detDelim(absPath), names=('wavelength', 'intensity'))\n",
    "    # plData = pd.read_csv(plPath, delimiter=h.detDelim(plPath), names=('wavelength', 'intensity'))\n",
    "\n",
    "    ########################################################### Abs Data ###########################################################\n",
    "    absX = absData.wavelength\n",
    "    absY = absData.intensity\n",
    "    absYNorm, idx = ap.norm(absY, absX, 475)\n",
    "    # absYNorm = ap.norm(absY)\n",
    "    ########################################################### PL Data #############################################################\n",
    "    # plX = plData.wavelength\n",
    "    # plY = plData.intensity\n",
    "    # plYNorm = ap.norm(plY)\n",
    "    ########################################################### Plots ##############################################################\n",
    "    # Plot Abs & PL\n",
    "    plt.plot(absX, absYNorm, label='Abs ' + ' ' + sampID[j])\n",
    "    # plt.plot(plX, plYNorm, 'r', label='PL ' + saveName)\n",
    "    # plt.plot(plX, plYNorm, label='PL ' + ' ' + sampID[j])\n",
    "\n",
    "    # Custom Plots\n",
    "    # ph.plotMaxPoint(plX, plYNorm, 450, 550)\n",
    "    # ph.fwhm(plX, plY)\n",
    "\n",
    "    ph.AP_AxesNames(sample)\n",
    "    # plt.xlim([300, 700])\n",
    "    plt.xlim([300, 750])\n",
    "    # plt.ylim([0, absYNorm[idx] + 0.02])\n",
    "    plt.ylim([0.5, absYNorm[idx] + 0.5])\n",
    "    plt.legend()\n",
    "    plt.savefig(savePath, dpi=1200)\n",
    "plt.show()\n"
   ]
  }
 ],
 "metadata": {
  "kernelspec": {
   "display_name": "research",
   "language": "python",
   "name": "python3"
  },
  "language_info": {
   "codemirror_mode": {
    "name": "ipython",
    "version": 3
   },
   "file_extension": ".py",
   "mimetype": "text/x-python",
   "name": "python",
   "nbconvert_exporter": "python",
   "pygments_lexer": "ipython3",
   "version": "3.10.9"
  },
  "orig_nbformat": 4,
  "vscode": {
   "interpreter": {
    "hash": "a7925bd73cac94d08246aac29014f23f2cd39aef579d7180e65b13f66303e1ad"
   }
  }
 },
 "nbformat": 4,
 "nbformat_minor": 2
}
